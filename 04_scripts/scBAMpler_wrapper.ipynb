{
 "cells": [
  {
   "cell_type": "markdown",
   "id": "280ebce0-f1ee-4905-95aa-0da56799aaa5",
   "metadata": {},
   "source": [
    "# Make QSUBs for Data Quality Downsampling"
   ]
  },
  {
   "cell_type": "code",
   "execution_count": 1,
   "id": "occupied-contemporary",
   "metadata": {},
   "outputs": [],
   "source": [
    "import numpy as np\n",
    "from pathlib import Path\n",
    "import os, re, sys, subprocess, tempfile\n",
    "import numpy as np\n",
    "\n",
    "\n",
    "def StartSHsub(filename):\n",
    "    #server w/out scheduler\n",
    "\n",
    "    f = open(filename, \"w\")\n",
    "    f.write(\"#!/bin/bash\\n\\n\")\n",
    "    f.write(\"set -e\\n\")\n",
    "    f.write(\"\\n\")\n",
    "    f.write(\"conda activate downsampling\\n\")\n",
    "    f.write(\"start=$(date +%s)\\n\")\n",
    "    return f\n",
    "\n",
    "def StartQsub(filename, nproc, memperproc, wd):\n",
    "    #server w/ SGE scheduler\n",
    "    \n",
    "    f = open(filename, \"w\")\n",
    "    f.write(\"#!/bin/bash\\n\\n\")\n",
    "    f.write(\"#$ -S /bin/bash\\n\")\n",
    "    #f.write(\"#$ -cwd\\n\") # job should run in the current working directory\n",
    "    f.write(f\"#$ -wd {wd}\\n\") \n",
    "    f.write(\"#$ -j y\\n\") # STDERR and STDOUT should be joined\n",
    "    f.write(f\"#$ -l mem_free={memperproc}G\\n\") \n",
    "    f.write(\"#$ -l scratch=25G\\n\") # job requires up to 2 GiB of local /scratch space\n",
    "    f.write(f\"#$ -pe smp {nproc}\\n\") #the job will be allotted n slots (“cores”) on a single machine\n",
    "    f.write(\"#$ -l h_rt=24:00:00\\n\")\n",
    "    f.write(\"set -e\\n\")\n",
    "    f.write(\"\\n\")\n",
    "    f.write(\"module load CBI miniforge3\\n\")\n",
    "    f.write(\"conda activate downsampling\\n\")\n",
    "    \n",
    "    f.write(\"\\n\")\n",
    "    f.write(\"start=$(date +%s)\\n\")\n",
    "    return f\n",
    "\n",
    "def CloseSub(f, server):\n",
    "    if (server == \"wynton\"): f.write('[[ -n \"$JOB_ID\" ]] && qstat -j \"$JOB_ID\"\\n')\n",
    "    f.write('echo \"Elapsed Time: $(($end-$start)) seconds\"\\n')\n",
    "    \n",
    "    f.close()\n",
    "    return"
   ]
  },
  {
   "cell_type": "code",
   "execution_count": null,
   "id": "18243b76-892f-48e9-99b6-9089e410b69a",
   "metadata": {},
   "outputs": [],
   "source": [
    "server=\"wynton\"\n",
    "maxvmem = 300 #GB\n",
    "nproc = 8\n",
    "memperproc = round(maxvmem/nproc)\n",
    "nrep = 3"
   ]
  },
  {
   "cell_type": "code",
   "execution_count": null,
   "id": "3da38953-43c9-4fbb-8e22-ef60a02439ce",
   "metadata": {},
   "outputs": [],
   "source": [
    "out_dir = \"04_downsampling/02_cells\"\n",
    "subtype = \"cells\"\n",
    "vals = [\"1000\", \"2500\", \"5000\", \"7500\", \"10000\", \"20000\", \"30000\", \"40000\", \"50000\"]"
   ]
  },
  {
   "cell_type": "code",
   "execution_count": null,
   "id": "d460db02-e79a-428f-b8f9-d6b58a0e4e96",
   "metadata": {},
   "outputs": [],
   "source": [
    "out_dir = \"04_downsampling/03_reads\"\n",
    "subtype = \"reads\"\n",
    "vals = [\"1e6\", \"5e6\", \"1e7\", \"5e7\", \"1e8\", \"5e8\", \"1e9\"]"
   ]
  },
  {
   "cell_type": "code",
   "execution_count": null,
   "id": "32e2b94d-b2d8-4380-a846-4094f166f445",
   "metadata": {},
   "outputs": [],
   "source": [
    "out_dir = \"04_downsampling/04_frip/\"\n",
    "subtype = \"frip\"\n",
    "vals = [\"0.05\", \"0.1\", \"0.2\", \"0.25\", \"0.35\", \"0.4\", \"0.6\", \"0.8\"]"
   ]
  },
  {
   "cell_type": "code",
   "execution_count": null,
   "id": "30fb0ace-e794-42f4-9ebc-572547855e13",
   "metadata": {},
   "outputs": [],
   "source": [
    "qsub_dir = f\"{out_dir}/qsubs/\"\n",
    "Path(f\"{qsub_dir}\").mkdir(parents=True, exist_ok=True)\n",
    "\n",
    "if subtype == \"reads\" : short = \"r\"\n",
    "elif subtype == \"cells\" : short = \"c\" \n",
    "elif subtype == \"frip\" : short = \"f\"\n",
    "else: print(\"SUBTYPE NOT RECOGNIZED\")\n",
    "sge_ncpu = \"${NSLOTS:-1}\"\n",
    "\n",
    "for val in vals:\n",
    "    if subtype == \"frip\": group = f\"{short}{val.replace('.', '')}\"\n",
    "    else: group = f\"{short}{val}\"\n",
    "    print(group)\n",
    "\n",
    "    Path(f\"{out_dir}/{group}/\").mkdir(parents=True, exist_ok=True)\n",
    "    for celltype in [\"HEPG2\", \"GM12878\", \"K562\", \"MCF7\", \"SKNSH\"]: \n",
    "            \n",
    "        qsub_script = f\"{qsub_dir}/{celltype}_{group}.sh\"\n",
    "        if (server == \"wynton\"): \n",
    "            f = StartQsub(qsub_script, nproc, memperproc, wd = qsub_dir)\n",
    "        if (server == \"bueno\"): \n",
    "            f = StartSHsub(qsub_script)\n",
    "            sge_ncpu = nproc\n",
    "            \n",
    "        for seed in np.random.choice(range(1,100), nrep, replace=False):\n",
    "            \n",
    "            f.write(f\"echo 'working on cell type: {celltype}_{group}_s{seed}'\\n\")\n",
    "            \n",
    "            command = f'''scBAMpler sampler \\\\\n",
    "            -i /04_downsampling/00_celldicts/{celltype}.pickle \\\\\n",
    "            -o {out_dir}/{group}/{celltype}_{group}_s{seed} \\\\\n",
    "            --downsample_by {subtype} \\\\\n",
    "            --downsample_to {val} \\\\\n",
    "            --seed {seed} \\\\\n",
    "            --nproc {sge_ncpu}  \\\\\n",
    "            -b ../03_filtered_bams/{celltype}-cellFilt.bam\\n\\n'''\n",
    "            f.write(command)\n",
    "            \n",
    "        CloseSub(f, server)"
   ]
  },
  {
   "cell_type": "code",
   "execution_count": null,
   "id": "corporate-button",
   "metadata": {},
   "outputs": [],
   "source": []
  },
  {
   "cell_type": "code",
   "execution_count": null,
   "id": "furnished-representation",
   "metadata": {},
   "outputs": [],
   "source": []
  },
  {
   "cell_type": "code",
   "execution_count": null,
   "id": "empirical-chance",
   "metadata": {},
   "outputs": [],
   "source": []
  },
  {
   "cell_type": "markdown",
   "id": "f0f146da-8a3c-448d-af90-1295b368e0ab",
   "metadata": {},
   "source": [
    "# Once finished, gather all summary statistics together"
   ]
  },
  {
   "cell_type": "code",
   "execution_count": null,
   "id": "1d2684da-2025-47af-a1c3-58a0c0550b9e",
   "metadata": {},
   "outputs": [],
   "source": [
    "######### BUILD SUMMARY STATS ###########\n",
    "\n",
    "import os, re\n",
    "import pandas as pd\n",
    "import numpy as np\n",
    "\n",
    "def _remove_strings(text):\n",
    "    #remove common strings from test. \n",
    "    patterns = [r'\\.summary\\.txt', r'\\.mat', r'-cellFilt']\n",
    "    for pattern in patterns:\n",
    "        text = re.sub(pattern, '', text)\n",
    "    return text\n",
    "\n",
    "\n",
    "def find_mat_files(directory):\n",
    "    mat_files = []\n",
    "    exclude_dirs = [\"old\", \"qsubs\", \"older\"]  # Directories to exclude\n",
    "\n",
    "    for root, dirs, files in os.walk(directory):\n",
    "        # Modify the dirs list in place to exclude specific directories\n",
    "        dirs[:] = [d for d in dirs if d not in exclude_dirs]\n",
    "\n",
    "        for file in files:\n",
    "            if file.endswith(\".summary.txt\"):\n",
    "                subdirectory = os.path.basename(root)\n",
    "                parent_directory = os.path.basename(os.path.dirname(root))\n",
    "                mat_files.append((parent_directory, subdirectory, file))\n",
    "    \n",
    "    return mat_files\n",
    "\n",
    "\n",
    "data_dir = \"/pollard/data/projects/aseveritt/encode_snatacseq/04_downsampling/\"\n",
    "all_files = find_mat_files(data_dir)\n",
    "sum_stats = pd.DataFrame()\n",
    "\n",
    "for d in all_files:\n",
    "    pdd = d[0]; sd=d[1]; f=d[2]\n",
    "    if pdd == \"04_downsampling\": pdd=\"\"\n",
    "    tmp = pd.read_csv(f\"{data_dir}/{pdd}/{sd}/{f}\", sep=\"\\t\", header=None, comment='#', index_col=0)\n",
    "    tmp.columns = [_remove_strings(f)]\n",
    "    sum_stats = sum_stats.merge(tmp, left_index=True, right_index=True, how=\"outer\")\n",
    "\n",
    "sum_stats = sum_stats.drop(['bam', 'input_file', \"peak\"])\n",
    "fix = sum_stats.columns[sum_stats.loc[[\"sampling_type\"]].isna().any()].tolist()\n",
    "sum_stats.loc[\"sampling_type\", fix] = \"baseline\"\n",
    "sum_stats.loc[\"cell_line\"] = [f.split('_')[0] for f in sum_stats.columns]\n",
    "sum_stats.T.to_csv(\"/pollard/data/projects/aseveritt/encode_snatacseq/04_downsampling/sampling_stats.csv\")\n"
   ]
  },
  {
   "cell_type": "code",
   "execution_count": 84,
   "id": "coordinated-detail",
   "metadata": {},
   "outputs": [],
   "source": []
  }
 ],
 "metadata": {
  "kernelspec": {
   "display_name": "Python (3.10 down)",
   "language": "python",
   "name": "downsampling_env"
  },
  "language_info": {
   "codemirror_mode": {
    "name": "ipython",
    "version": 3
   },
   "file_extension": ".py",
   "mimetype": "text/x-python",
   "name": "python",
   "nbconvert_exporter": "python",
   "pygments_lexer": "ipython3",
   "version": "3.10.13"
  }
 },
 "nbformat": 4,
 "nbformat_minor": 5
}
